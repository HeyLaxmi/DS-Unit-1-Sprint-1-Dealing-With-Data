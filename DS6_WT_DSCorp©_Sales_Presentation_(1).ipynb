{
  "nbformat": 4,
  "nbformat_minor": 0,
  "metadata": {
    "colab": {
      "name": "DS6_WT_DSCorp©_Sales_Presentation (1).ipynb",
      "version": "0.3.2",
      "provenance": [],
      "collapsed_sections": [],
      "include_colab_link": true
    },
    "kernelspec": {
      "name": "python3",
      "display_name": "Python 3"
    }
  },
  "cells": [
    {
      "cell_type": "markdown",
      "metadata": {
        "id": "view-in-github",
        "colab_type": "text"
      },
      "source": [
        "<a href=\"https://colab.research.google.com/github/HeyLaxmi/DS-Unit-1-Sprint-1-Dealing-With-Data/blob/master/DS6_WT_DSCorp%C2%A9_Sales_Presentation_(1).ipynb\" target=\"_parent\"><img src=\"https://colab.research.google.com/assets/colab-badge.svg\" alt=\"Open In Colab\"/></a>"
      ]
    },
    {
      "cell_type": "markdown",
      "metadata": {
        "id": "gr9zUvYzCqft",
        "colab_type": "text"
      },
      "source": [
        "# DSCorp© Sales Report Presentation for 201?\n",
        "\n"
      ]
    },
    {
      "cell_type": "markdown",
      "metadata": {
        "id": "vJDm-t-9DHtd",
        "colab_type": "text"
      },
      "source": [
        "### Good morning DSCorp© Data Wrangling Team!\n",
        "\n",
        "Sales manager Leslie Hacker sent me this file early this morning with sales data from the past year (or so??? - it isn't clear!).\n",
        "\n",
        "[201? Sales Report](https://github.com/pierretd/data-dump/raw/master/DS3/before-hours/Sales%20Report.csv)\n",
        "\n",
        "We have a meeting with some potential investors in under ***ONE HOUR!!!***\n",
        "\n",
        "---\n",
        "\n",
        "Please help us make sense of this data so we can present some helpful visualizations to the investors!\n",
        "\n",
        "Working in groups of 2-3 copy this Colab notebook and see what you can come up with:\n",
        "\n",
        "*   If you can make any conclusions about the data that we can bring to the table that would be great!\n",
        "*   Graphs that look pretty will impress these investors.\n",
        "*   Leslie loves Latin, but those are terrible column names -- make sure anything we show the investors makes some kind of sense!\n",
        "\n",
        "---\n",
        "\n",
        "Leslie was kind enough to let us know that `delta` represents sales and that `zeta` has something to do with whether or not a promotion was offered to the customers.\n",
        "\n",
        "Leslie has also informed us that the investors like 3d graphs, but only **after** they have seen some 2d graphs.\n",
        "\n",
        "You may use any tool you want, but make sure you can explain your code, because one of our investors is a veteran of the Data Science industry and they love to ask technical questions.\n",
        "\n",
        "I know this isn't much time, but unfortunately, due to Leslie's last minute reporting, it is all we can do! If we can salvage this situation perhaps we can save Leslie's job and earn a nice bonus at the end of the year!\n"
      ]
    },
    {
      "cell_type": "markdown",
      "metadata": {
        "id": "DJKD6FkjB8b3",
        "colab_type": "text"
      },
      "source": [
        "#### Deliverables\n",
        "\n",
        "1) Vizualization- Starting at 8:25, post at least one vizualization you created in #DS6. By 8:45 every group should have posted a vizualization.\n",
        "\n",
        "2) Insights- If you have made any insights, or think you have any insights share that in the channel as well starting at 8:25. By 8:45 every group should have posted at least one insight they gleamed from the data. \n",
        "\n",
        "3) Peer Review- Make a copy of [this google spreadsheet](https://docs.google.com/spreadsheets/d/1LW7P9jhlsCycGUf_HdN2eqARAHcMA1SoIt_ybP3Os20/edit?usp=sharing), fill out the peer review form, and send me a private message with the link to your peer review on Slack by 9AM.\n",
        "\n",
        "\n",
        "\n",
        "Good luck and have fun!"
      ]
    },
    {
      "cell_type": "code",
      "metadata": {
        "id": "Johna2k4iPV8",
        "colab_type": "code",
        "colab": {}
      },
      "source": [
        ""
      ],
      "execution_count": 0,
      "outputs": []
    }
  ]
}