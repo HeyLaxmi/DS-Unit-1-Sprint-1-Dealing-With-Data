{
  "nbformat": 4,
  "nbformat_minor": 0,
  "metadata": {
    "colab": {
      "name": "DS6_WT_DSCorp©_Sales_Presentation (1).ipynb",
      "version": "0.3.2",
      "provenance": [],
      "collapsed_sections": [],
      "include_colab_link": true
    },
    "kernelspec": {
      "name": "python3",
      "display_name": "Python 3"
    }
  },
  "cells": [
    {
      "cell_type": "markdown",
      "metadata": {
        "id": "view-in-github",
        "colab_type": "text"
      },
      "source": [
        "<a href=\"https://colab.research.google.com/github/HeyLaxmi/DS-Unit-1-Sprint-1-Dealing-With-Data/blob/master/DS6_WT_DSCorp%C2%A9_Sales_Presentation_(1).ipynb\" target=\"_parent\"><img src=\"https://colab.research.google.com/assets/colab-badge.svg\" alt=\"Open In Colab\"/></a>"
      ]
    },
    {
      "cell_type": "markdown",
      "metadata": {
        "id": "gr9zUvYzCqft",
        "colab_type": "text"
      },
      "source": [
        "# DSCorp© Sales Report Presentation for 201?\n",
        "\n"
      ]
    },
    {
      "cell_type": "markdown",
      "metadata": {
        "id": "vJDm-t-9DHtd",
        "colab_type": "text"
      },
      "source": [
        "### Good morning DSCorp© Data Wrangling Team!\n",
        "\n",
        "Sales manager Leslie Hacker sent me this file early this morning with sales data from the past year (or so??? - it isn't clear!).\n",
        "\n",
        "[201? Sales Report](https://github.com/pierretd/data-dump/raw/master/DS3/before-hours/Sales%20Report.csv)\n",
        "\n",
        "We have a meeting with some potential investors in under ***ONE HOUR!!!***\n",
        "\n",
        "---\n",
        "\n",
        "Please help us make sense of this data so we can present some helpful visualizations to the investors!\n",
        "\n",
        "Working in groups of 2-3 copy this Colab notebook and see what you can come up with:\n",
        "\n",
        "*   If you can make any conclusions about the data that we can bring to the table that would be great!\n",
        "*   Graphs that look pretty will impress these investors.\n",
        "*   Leslie loves Latin, but those are terrible column names -- make sure anything we show the investors makes some kind of sense!\n",
        "\n",
        "---\n",
        "\n",
        "Leslie was kind enough to let us know that `delta` represents sales and that `zeta` has something to do with whether or not a promotion was offered to the customers.\n",
        "\n",
        "Leslie has also informed us that the investors like 3d graphs, but only **after** they have seen some 2d graphs.\n",
        "\n",
        "You may use any tool you want, but make sure you can explain your code, because one of our investors is a veteran of the Data Science industry and they love to ask technical questions.\n",
        "\n",
        "I know this isn't much time, but unfortunately, due to Leslie's last minute reporting, it is all we can do! If we can salvage this situation perhaps we can save Leslie's job and earn a nice bonus at the end of the year!\n"
      ]
    },
    {
      "cell_type": "markdown",
      "metadata": {
        "id": "DJKD6FkjB8b3",
        "colab_type": "text"
      },
      "source": [
        "#### Deliverables\n",
        "\n",
        "1) Vizualization- Starting at 8:25, post at least one vizualization you created in #DS6. By 8:45 every group should have posted a vizualization.\n",
        "\n",
        "2) Insights- If you have made any insights, or think you have any insights share that in the channel as well starting at 8:25. By 8:45 every group should have posted at least one insight they gleamed from the data. \n",
        "\n",
        "3) Peer Review- Make a copy of [this google spreadsheet](https://docs.google.com/spreadsheets/d/1LW7P9jhlsCycGUf_HdN2eqARAHcMA1SoIt_ybP3Os20/edit?usp=sharing), fill out the peer review form, and send me a private message with the link to your peer review on Slack by 9AM.\n",
        "\n",
        "\n",
        "\n",
        "Good luck and have fun!"
      ]
    },
    {
      "cell_type": "code",
      "metadata": {
        "id": "Johna2k4iPV8",
        "colab_type": "code",
        "colab": {}
      },
      "source": [
        "import pandas as pd\n",
        "df = pd.read_csv('https://raw.githubusercontent.com/pierretd/data-dump/master/DS3/before-hours/Sales%20Report.csv')"
      ],
      "execution_count": 0,
      "outputs": []
    },
    {
      "cell_type": "code",
      "metadata": {
        "id": "FC-vkl1ptUaI",
        "colab_type": "code",
        "colab": {}
      },
      "source": [
        "df = df.dropna()"
      ],
      "execution_count": 0,
      "outputs": []
    },
    {
      "cell_type": "code",
      "metadata": {
        "id": "6Ymf53WNuJUg",
        "colab_type": "code",
        "colab": {
          "base_uri": "https://localhost:8080/",
          "height": 224
        },
        "outputId": "964ead57-21d5-4683-dfbb-aa2e64544636"
      },
      "source": [
        "print(df.shape)\n",
        "df.head()\n"
      ],
      "execution_count": 7,
      "outputs": [
        {
          "output_type": "stream",
          "text": [
            "(124, 7)\n"
          ],
          "name": "stdout"
        },
        {
          "output_type": "execute_result",
          "data": {
            "text/html": [
              "<div>\n",
              "<style scoped>\n",
              "    .dataframe tbody tr th:only-of-type {\n",
              "        vertical-align: middle;\n",
              "    }\n",
              "\n",
              "    .dataframe tbody tr th {\n",
              "        vertical-align: top;\n",
              "    }\n",
              "\n",
              "    .dataframe thead th {\n",
              "        text-align: right;\n",
              "    }\n",
              "</style>\n",
              "<table border=\"1\" class=\"dataframe\">\n",
              "  <thead>\n",
              "    <tr style=\"text-align: right;\">\n",
              "      <th></th>\n",
              "      <th>alpha</th>\n",
              "      <th>beta</th>\n",
              "      <th>gamma</th>\n",
              "      <th>delta</th>\n",
              "      <th>epsilon</th>\n",
              "      <th>zeta</th>\n",
              "      <th>lambda</th>\n",
              "    </tr>\n",
              "  </thead>\n",
              "  <tbody>\n",
              "    <tr>\n",
              "      <th>0</th>\n",
              "      <td>2</td>\n",
              "      <td>48</td>\n",
              "      <td>12</td>\n",
              "      <td>240</td>\n",
              "      <td>3.0</td>\n",
              "      <td>Yes</td>\n",
              "      <td>AZ</td>\n",
              "    </tr>\n",
              "    <tr>\n",
              "      <th>2</th>\n",
              "      <td>4</td>\n",
              "      <td>44</td>\n",
              "      <td>24</td>\n",
              "      <td>220</td>\n",
              "      <td>7.0</td>\n",
              "      <td>No</td>\n",
              "      <td>PA</td>\n",
              "    </tr>\n",
              "    <tr>\n",
              "      <th>3</th>\n",
              "      <td>5</td>\n",
              "      <td>42</td>\n",
              "      <td>30</td>\n",
              "      <td>210</td>\n",
              "      <td>9.0</td>\n",
              "      <td>Yes</td>\n",
              "      <td>OK</td>\n",
              "    </tr>\n",
              "    <tr>\n",
              "      <th>4</th>\n",
              "      <td>6</td>\n",
              "      <td>44</td>\n",
              "      <td>36</td>\n",
              "      <td>220</td>\n",
              "      <td>11.0</td>\n",
              "      <td>Yes</td>\n",
              "      <td>MD</td>\n",
              "    </tr>\n",
              "    <tr>\n",
              "      <th>5</th>\n",
              "      <td>7</td>\n",
              "      <td>46</td>\n",
              "      <td>42</td>\n",
              "      <td>230</td>\n",
              "      <td>13.0</td>\n",
              "      <td>No</td>\n",
              "      <td>OH</td>\n",
              "    </tr>\n",
              "  </tbody>\n",
              "</table>\n",
              "</div>"
            ],
            "text/plain": [
              "   alpha  beta  gamma  delta  epsilon zeta lambda\n",
              "0      2    48     12    240      3.0  Yes     AZ\n",
              "2      4    44     24    220      7.0   No     PA\n",
              "3      5    42     30    210      9.0  Yes     OK\n",
              "4      6    44     36    220     11.0  Yes     MD\n",
              "5      7    46     42    230     13.0   No     OH"
            ]
          },
          "metadata": {
            "tags": []
          },
          "execution_count": 7
        }
      ]
    },
    {
      "cell_type": "code",
      "metadata": {
        "id": "DQ6XM4V-upo4",
        "colab_type": "code",
        "colab": {}
      },
      "source": [
        "import matplotlib.pyplot as plt\n",
        "# Scatter Plot\n",
        "df.plot.scatter('alpha', 'delta')\n"
      ],
      "execution_count": 0,
      "outputs": []
    },
    {
      "cell_type": "code",
      "metadata": {
        "id": "eJJUq86bvnKv",
        "colab_type": "code",
        "colab": {
          "base_uri": "https://localhost:8080/",
          "height": 283
        },
        "outputId": "55f935f1-ae53-448a-dd83-ad637d4dafca"
      },
      "source": [
        "import seaborn as sns\n",
        "sns.barplot(x = 'zeta', y = 'delta', data = df);"
      ],
      "execution_count": 9,
      "outputs": [
        {
          "output_type": "display_data",
          "data": {
            "image/png": "[encoded data removed]",
            "text/plain": [
              "<Figure size 432x288 with 1 Axes>"
            ]
          },
          "metadata": {
            "tags": []
          }
        }
      ]
    },
    {
      "cell_type": "code",
      "metadata": {
        "id": "sZJU6Mu3wPHa",
        "colab_type": "code",
        "colab": {
          "base_uri": "https://localhost:8080/",
          "height": 283
        },
        "outputId": "a4557211-98ae-4107-8712-7766f209e2db"
      },
      "source": [
        "import seaborn as sns\n",
        "sns.barplot(x = 'lambda', y = 'alpha', data = df);"
      ],
      "execution_count": 15,
      "outputs": [
        {
          "output_type": "display_data",
          "data": {
            "image/png": "[encoded data removed]",
            "text/plain": [
              "<Figure size 432x288 with 1 Axes>"
            ]
          },
          "metadata": {
            "tags": []
          }
        }
      ]
    },
    {
      "cell_type": "code",
      "metadata": {
        "id": "JxXgUrA8yl7D",
        "colab_type": "code",
        "colab": {
          "base_uri": "https://localhost:8080/",
          "height": 281
        },
        "outputId": "82378f65-6c16-4ba5-84fa-6267d7cd92f5"
      },
      "source": [
        "df.hist();"
      ],
      "execution_count": 16,
      "outputs": [
        {
          "output_type": "display_data",
          "data": {
            "image/png": "[encoded data removed]",
            "text/plain": [
              "<Figure size 432x288 with 6 Axes>"
            ]
          },
          "metadata": {
            "tags": []
          }
        }
      ]
    },
    {
      "cell_type": "code",
      "metadata": {
        "id": "6Q3LPYlByzYJ",
        "colab_type": "code",
        "colab": {}
      },
      "source": [
        ""
      ],
      "execution_count": 0,
      "outputs": []
    },
    {
      "cell_type": "markdown",
      "metadata": {
        "id": "dDIEbmLdz-0k",
        "colab_type": "text"
      },
      "source": [
        "Conclusion for Leslie: present a positive goal and create an impact to attract the investors.  "
      ]
    }
  ]
}