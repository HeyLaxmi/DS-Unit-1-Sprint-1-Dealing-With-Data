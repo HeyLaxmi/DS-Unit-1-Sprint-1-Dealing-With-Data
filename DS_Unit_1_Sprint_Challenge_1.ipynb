{
  "nbformat": 4,
  "nbformat_minor": 0,
  "metadata": {
    "colab": {
      "name": "DS_Unit_1_Sprint_Challenge_1.ipynb",
      "version": "0.3.2",
      "provenance": [],
      "collapsed_sections": [],
      "include_colab_link": true
    },
    "kernelspec": {
      "name": "python3",
      "display_name": "Python 3"
    }
  },
  "cells": [
    {
      "cell_type": "markdown",
      "metadata": {
        "id": "view-in-github",
        "colab_type": "text"
      },
      "source": [
        "<a href=\"https://colab.research.google.com/github/HeyLaxmi/DS-Unit-1-Sprint-1-Dealing-With-Data/blob/master/DS_Unit_1_Sprint_Challenge_1.ipynb\" target=\"_parent\"><img src=\"https://colab.research.google.com/assets/colab-badge.svg\" alt=\"Open In Colab\"/></a>"
      ]
    },
    {
      "cell_type": "markdown",
      "metadata": {
        "id": "NooAiTdnafkz",
        "colab_type": "text"
      },
      "source": [
        "# Data Science Unit 1 Sprint Challenge 1\n",
        "\n",
        "## Loading, cleaning, visualizing, and analyzing data\n",
        "\n",
        "In this sprint challenge you will look at a dataset of the survival of patients who underwent surgery for breast cancer.\n",
        "\n",
        "http://archive.ics.uci.edu/ml/datasets/Haberman%27s+Survival\n",
        "\n",
        "Data Set Information:\n",
        "The dataset contains cases from a study that was conducted between 1958 and 1970 at the University of Chicago's Billings Hospital on the survival of patients who had undergone surgery for breast cancer.\n",
        "\n",
        "Attribute Information:\n",
        "1. Age of patient at time of operation (numerical)\n",
        "2. Patient's year of operation (year - 1900, numerical)\n",
        "3. Number of positive axillary nodes detected (numerical)\n",
        "4. Survival status (class attribute)\n",
        "-- 1 = the patient survived 5 years or longer\n",
        "-- 2 = the patient died within 5 year\n",
        "\n",
        "Sprint challenges are evaluated based on satisfactory completion of each part. It is suggested you work through it in order, getting each aspect reasonably working, before trying to deeply explore, iterate, or refine any given step. Once you get to the end, if you want to go back and improve things, go for it!"
      ]
    },
    {
      "cell_type": "markdown",
      "metadata": {
        "id": "5wch6ksCbJtZ",
        "colab_type": "text"
      },
      "source": [
        "## Part 1 - Load and validate the data\n",
        "\n",
        "- Load the data as a `pandas` data frame.\n",
        "- Validate that it has the appropriate number of observations (you can check the raw file, and also read the dataset description from UCI).\n",
        "- Validate that you have no missing values.\n",
        "- Add informative names to the features.\n",
        "- The survival variable is encoded as 1 for surviving >5 years and 2 for not - change this to be 0 for not surviving and 1 for surviving >5 years (0/1 is a more traditional encoding of binary variables)\n",
        "\n",
        "At the end, print the first five rows of the dataset to demonstrate the above."
      ]
    },
    {
      "cell_type": "code",
      "metadata": {
        "id": "287TpoGKFRVK",
        "colab_type": "code",
        "colab": {}
      },
      "source": [
        "# TODO\n",
        "haberman_data_url = 'http://archive.ics.uci.edu/ml/machine-learning-databases/haberman/haberman.data'"
      ],
      "execution_count": 0,
      "outputs": []
    },
    {
      "cell_type": "code",
      "metadata": {
        "id": "lgFrwsBywAGR",
        "colab_type": "code",
        "colab": {}
      },
      "source": [
        "import pandas as pd\n",
        "haberman_data = pd.read_csv(haberman_data_url)"
      ],
      "execution_count": 0,
      "outputs": []
    },
    {
      "cell_type": "code",
      "metadata": {
        "id": "wivf671H5e6u",
        "colab_type": "code",
        "colab": {
          "base_uri": "https://localhost:8080/",
          "height": 72
        },
        "outputId": "2018c4e0-724e-4e7d-f3a5-19a88c7f6dab"
      },
      "source": [
        "!curl http://archive.ics.uci.edu/ml/machine-learning-databases/haberman/haberman.data > haberman.data"
      ],
      "execution_count": 28,
      "outputs": [
        {
          "output_type": "stream",
          "text": [
            "  % Total    % Received % Xferd  Average Speed   Time    Time     Time  Current\n",
            "                                 Dload  Upload   Total   Spent    Left  Speed\n",
            "\r  0     0    0     0    0     0      0      0 --:--:-- --:--:-- --:--:--     0\r100  3103  100  3103    0     0  47738      0 --:--:-- --:--:-- --:--:-- 47738\n"
          ],
          "name": "stdout"
        }
      ]
    },
    {
      "cell_type": "code",
      "metadata": {
        "id": "hiysD7hU1uXD",
        "colab_type": "code",
        "colab": {}
      },
      "source": [
        "?pd.read_csv"
      ],
      "execution_count": 0,
      "outputs": []
    },
    {
      "cell_type": "code",
      "metadata": {
        "id": "dpxyChQoxIAo",
        "colab_type": "code",
        "colab": {
          "base_uri": "https://localhost:8080/",
          "height": 1000
        },
        "outputId": "e9722494-f039-4dbb-818e-91c79a867bd7"
      },
      "source": [
        "!curl http://archive.ics.uci.edu/ml/machine-learning-databases/haberman/haberman.data"
      ],
      "execution_count": 47,
      "outputs": [
        {
          "output_type": "stream",
          "text": [
            "30,64,1,1\n",
            "30,62,3,1\n",
            "30,65,0,1\n",
            "31,59,2,1\n",
            "31,65,4,1\n",
            "33,58,10,1\n",
            "33,60,0,1\n",
            "34,59,0,2\n",
            "34,66,9,2\n",
            "34,58,30,1\n",
            "34,60,1,1\n",
            "34,61,10,1\n",
            "34,67,7,1\n",
            "34,60,0,1\n",
            "35,64,13,1\n",
            "35,63,0,1\n",
            "36,60,1,1\n",
            "36,69,0,1\n",
            "37,60,0,1\n",
            "37,63,0,1\n",
            "37,58,0,1\n",
            "37,59,6,1\n",
            "37,60,15,1\n",
            "37,63,0,1\n",
            "38,69,21,2\n",
            "38,59,2,1\n",
            "38,60,0,1\n",
            "38,60,0,1\n",
            "38,62,3,1\n",
            "38,64,1,1\n",
            "38,66,0,1\n",
            "38,66,11,1\n",
            "38,60,1,1\n",
            "38,67,5,1\n",
            "39,66,0,2\n",
            "39,63,0,1\n",
            "39,67,0,1\n",
            "39,58,0,1\n",
            "39,59,2,1\n",
            "39,63,4,1\n",
            "40,58,2,1\n",
            "40,58,0,1\n",
            "40,65,0,1\n",
            "41,60,23,2\n",
            "41,64,0,2\n",
            "41,67,0,2\n",
            "41,58,0,1\n",
            "41,59,8,1\n",
            "41,59,0,1\n",
            "41,64,0,1\n",
            "41,69,8,1\n",
            "41,65,0,1\n",
            "41,65,0,1\n",
            "42,69,1,2\n",
            "42,59,0,2\n",
            "42,58,0,1\n",
            "42,60,1,1\n",
            "42,59,2,1\n",
            "42,61,4,1\n",
            "42,62,20,1\n",
            "42,65,0,1\n",
            "42,63,1,1\n",
            "43,58,52,2\n",
            "43,59,2,2\n",
            "43,64,0,2\n",
            "43,64,0,2\n",
            "43,63,14,1\n",
            "43,64,2,1\n",
            "43,64,3,1\n",
            "43,60,0,1\n",
            "43,63,2,1\n",
            "43,65,0,1\n",
            "43,66,4,1\n",
            "44,64,6,2\n",
            "44,58,9,2\n",
            "44,63,19,2\n",
            "44,61,0,1\n",
            "44,63,1,1\n",
            "44,61,0,1\n",
            "44,67,16,1\n",
            "45,65,6,2\n",
            "45,66,0,2\n",
            "45,67,1,2\n",
            "45,60,0,1\n",
            "45,67,0,1\n",
            "45,59,14,1\n",
            "45,64,0,1\n",
            "45,68,0,1\n",
            "45,67,1,1\n",
            "46,58,2,2\n",
            "46,69,3,2\n",
            "46,62,5,2\n",
            "46,65,20,2\n",
            "46,62,0,1\n",
            "46,58,3,1\n",
            "46,63,0,1\n",
            "47,63,23,2\n",
            "47,62,0,2\n",
            "47,65,0,2\n",
            "47,61,0,1\n",
            "47,63,6,1\n",
            "47,66,0,1\n",
            "47,67,0,1\n",
            "47,58,3,1\n",
            "47,60,4,1\n",
            "47,68,4,1\n",
            "47,66,12,1\n",
            "48,58,11,2\n",
            "48,58,11,2\n",
            "48,67,7,2\n",
            "48,61,8,1\n",
            "48,62,2,1\n",
            "48,64,0,1\n",
            "48,66,0,1\n",
            "49,63,0,2\n",
            "49,64,10,2\n",
            "49,61,1,1\n",
            "49,62,0,1\n",
            "49,66,0,1\n",
            "49,60,1,1\n",
            "49,62,1,1\n",
            "49,63,3,1\n",
            "49,61,0,1\n",
            "49,67,1,1\n",
            "50,63,13,2\n",
            "50,64,0,2\n",
            "50,59,0,1\n",
            "50,61,6,1\n",
            "50,61,0,1\n",
            "50,63,1,1\n",
            "50,58,1,1\n",
            "50,59,2,1\n",
            "50,61,0,1\n",
            "50,64,0,1\n",
            "50,65,4,1\n",
            "50,66,1,1\n",
            "51,59,13,2\n",
            "51,59,3,2\n",
            "51,64,7,1\n",
            "51,59,1,1\n",
            "51,65,0,1\n",
            "51,66,1,1\n",
            "52,69,3,2\n",
            "52,59,2,2\n",
            "52,62,3,2\n",
            "52,66,4,2\n",
            "52,61,0,1\n",
            "52,63,4,1\n",
            "52,69,0,1\n",
            "52,60,4,1\n",
            "52,60,5,1\n",
            "52,62,0,1\n",
            "52,62,1,1\n",
            "52,64,0,1\n",
            "52,65,0,1\n",
            "52,68,0,1\n",
            "53,58,4,2\n",
            "53,65,1,2\n",
            "53,59,3,2\n",
            "53,60,9,2\n",
            "53,63,24,2\n",
            "53,65,12,2\n",
            "53,58,1,1\n",
            "53,60,1,1\n",
            "53,60,2,1\n",
            "53,61,1,1\n",
            "53,63,0,1\n",
            "54,60,11,2\n",
            "54,65,23,2\n",
            "54,65,5,2\n",
            "54,68,7,2\n",
            "54,59,7,1\n",
            "54,60,3,1\n",
            "54,66,0,1\n",
            "54,67,46,1\n",
            "54,62,0,1\n",
            "54,69,7,1\n",
            "54,63,19,1\n",
            "54,58,1,1\n",
            "54,62,0,1\n",
            "55,63,6,2\n",
            "55,68,15,2\n",
            "55,58,1,1\n",
            "55,58,0,1\n",
            "55,58,1,1\n",
            "55,66,18,1\n",
            "55,66,0,1\n",
            "55,69,3,1\n",
            "55,69,22,1\n",
            "55,67,1,1\n",
            "56,65,9,2\n",
            "56,66,3,2\n",
            "56,60,0,1\n",
            "56,66,2,1\n",
            "56,66,1,1\n",
            "56,67,0,1\n",
            "56,60,0,1\n",
            "57,61,5,2\n",
            "57,62,14,2\n",
            "57,64,1,2\n",
            "57,64,9,1\n",
            "57,69,0,1\n",
            "57,61,0,1\n",
            "57,62,0,1\n",
            "57,63,0,1\n",
            "57,64,0,1\n",
            "57,64,0,1\n",
            "57,67,0,1\n",
            "58,59,0,1\n",
            "58,60,3,1\n",
            "58,61,1,1\n",
            "58,67,0,1\n",
            "58,58,0,1\n",
            "58,58,3,1\n",
            "58,61,2,1\n",
            "59,62,35,2\n",
            "59,60,0,1\n",
            "59,63,0,1\n",
            "59,64,1,1\n",
            "59,64,4,1\n",
            "59,64,0,1\n",
            "59,64,7,1\n",
            "59,67,3,1\n",
            "60,59,17,2\n",
            "60,65,0,2\n",
            "60,61,1,1\n",
            "60,67,2,1\n",
            "60,61,25,1\n",
            "60,64,0,1\n",
            "61,62,5,2\n",
            "61,65,0,2\n",
            "61,68,1,2\n",
            "61,59,0,1\n",
            "61,59,0,1\n",
            "61,64,0,1\n",
            "61,65,8,1\n",
            "61,68,0,1\n",
            "61,59,0,1\n",
            "62,59,13,2\n",
            "62,58,0,2\n",
            "62,65,19,2\n",
            "62,62,6,1\n",
            "62,66,0,1\n",
            "62,66,0,1\n",
            "62,58,0,1\n",
            "63,60,1,2\n",
            "63,61,0,1\n",
            "63,62,0,1\n",
            "63,63,0,1\n",
            "63,63,0,1\n",
            "63,66,0,1\n",
            "63,61,9,1\n",
            "63,61,28,1\n",
            "64,58,0,1\n",
            "64,65,22,1\n",
            "64,66,0,1\n",
            "64,61,0,1\n",
            "64,68,0,1\n",
            "65,58,0,2\n",
            "65,61,2,2\n",
            "65,62,22,2\n",
            "65,66,15,2\n",
            "65,58,0,1\n",
            "65,64,0,1\n",
            "65,67,0,1\n",
            "65,59,2,1\n",
            "65,64,0,1\n",
            "65,67,1,1\n",
            "66,58,0,2\n",
            "66,61,13,2\n",
            "66,58,0,1\n",
            "66,58,1,1\n",
            "66,68,0,1\n",
            "67,64,8,2\n",
            "67,63,1,2\n",
            "67,66,0,1\n",
            "67,66,0,1\n",
            "67,61,0,1\n",
            "67,65,0,1\n",
            "68,67,0,1\n",
            "68,68,0,1\n",
            "69,67,8,2\n",
            "69,60,0,1\n",
            "69,65,0,1\n",
            "69,66,0,1\n",
            "70,58,0,2\n",
            "70,58,4,2\n",
            "70,66,14,1\n",
            "70,67,0,1\n",
            "70,68,0,1\n",
            "70,59,8,1\n",
            "70,63,0,1\n",
            "71,68,2,1\n",
            "72,63,0,2\n",
            "72,58,0,1\n",
            "72,64,0,1\n",
            "72,67,3,1\n",
            "73,62,0,1\n",
            "73,68,0,1\n",
            "74,65,3,2\n",
            "74,63,0,1\n",
            "75,62,1,1\n",
            "76,67,0,1\n",
            "77,65,3,1\n",
            "78,65,1,2\n",
            "83,58,2,2\n"
          ],
          "name": "stdout"
        }
      ]
    },
    {
      "cell_type": "code",
      "metadata": {
        "id": "sbn2oFZm3hrT",
        "colab_type": "code",
        "colab": {}
      },
      "source": [
        "haberman_data.head()"
      ],
      "execution_count": 0,
      "outputs": []
    },
    {
      "cell_type": "code",
      "metadata": {
        "id": "o9VttEA36XoW",
        "colab_type": "code",
        "colab": {
          "base_uri": "https://localhost:8080/",
          "height": 206
        },
        "outputId": "3d892ab8-7d96-4d81-ec83-3b42ed15e062"
      },
      "source": [
        "haberman_data = pd.read_csv(haberman_data_url, header=None)\n",
        "haberman_data.head()"
      ],
      "execution_count": 52,
      "outputs": [
        {
          "output_type": "execute_result",
          "data": {
            "text/html": [
              "<div>\n",
              "<style scoped>\n",
              "    .dataframe tbody tr th:only-of-type {\n",
              "        vertical-align: middle;\n",
              "    }\n",
              "\n",
              "    .dataframe tbody tr th {\n",
              "        vertical-align: top;\n",
              "    }\n",
              "\n",
              "    .dataframe thead th {\n",
              "        text-align: right;\n",
              "    }\n",
              "</style>\n",
              "<table border=\"1\" class=\"dataframe\">\n",
              "  <thead>\n",
              "    <tr style=\"text-align: right;\">\n",
              "      <th></th>\n",
              "      <th>0</th>\n",
              "      <th>1</th>\n",
              "      <th>2</th>\n",
              "      <th>3</th>\n",
              "    </tr>\n",
              "  </thead>\n",
              "  <tbody>\n",
              "    <tr>\n",
              "      <th>0</th>\n",
              "      <td>30</td>\n",
              "      <td>64</td>\n",
              "      <td>1</td>\n",
              "      <td>1</td>\n",
              "    </tr>\n",
              "    <tr>\n",
              "      <th>1</th>\n",
              "      <td>30</td>\n",
              "      <td>62</td>\n",
              "      <td>3</td>\n",
              "      <td>1</td>\n",
              "    </tr>\n",
              "    <tr>\n",
              "      <th>2</th>\n",
              "      <td>30</td>\n",
              "      <td>65</td>\n",
              "      <td>0</td>\n",
              "      <td>1</td>\n",
              "    </tr>\n",
              "    <tr>\n",
              "      <th>3</th>\n",
              "      <td>31</td>\n",
              "      <td>59</td>\n",
              "      <td>2</td>\n",
              "      <td>1</td>\n",
              "    </tr>\n",
              "    <tr>\n",
              "      <th>4</th>\n",
              "      <td>31</td>\n",
              "      <td>65</td>\n",
              "      <td>4</td>\n",
              "      <td>1</td>\n",
              "    </tr>\n",
              "  </tbody>\n",
              "</table>\n",
              "</div>"
            ],
            "text/plain": [
              "    0   1  2  3\n",
              "0  30  64  1  1\n",
              "1  30  62  3  1\n",
              "2  30  65  0  1\n",
              "3  31  59  2  1\n",
              "4  31  65  4  1"
            ]
          },
          "metadata": {
            "tags": []
          },
          "execution_count": 52
        }
      ]
    },
    {
      "cell_type": "code",
      "metadata": {
        "id": "75ro8-to2QnV",
        "colab_type": "code",
        "colab": {
          "base_uri": "https://localhost:8080/",
          "height": 206
        },
        "outputId": "feb739cc-8839-42ec-8c62-9ddaebb63b06"
      },
      "source": [
        "haberman_data = pd.read_csv('haberman.data')\n",
        "haberman_data.head()"
      ],
      "execution_count": 54,
      "outputs": [
        {
          "output_type": "execute_result",
          "data": {
            "text/html": [
              "<div>\n",
              "<style scoped>\n",
              "    .dataframe tbody tr th:only-of-type {\n",
              "        vertical-align: middle;\n",
              "    }\n",
              "\n",
              "    .dataframe tbody tr th {\n",
              "        vertical-align: top;\n",
              "    }\n",
              "\n",
              "    .dataframe thead th {\n",
              "        text-align: right;\n",
              "    }\n",
              "</style>\n",
              "<table border=\"1\" class=\"dataframe\">\n",
              "  <thead>\n",
              "    <tr style=\"text-align: right;\">\n",
              "      <th></th>\n",
              "      <th>30</th>\n",
              "      <th>64</th>\n",
              "      <th>1</th>\n",
              "      <th>1.1</th>\n",
              "    </tr>\n",
              "  </thead>\n",
              "  <tbody>\n",
              "    <tr>\n",
              "      <th>0</th>\n",
              "      <td>30</td>\n",
              "      <td>62</td>\n",
              "      <td>3</td>\n",
              "      <td>1</td>\n",
              "    </tr>\n",
              "    <tr>\n",
              "      <th>1</th>\n",
              "      <td>30</td>\n",
              "      <td>65</td>\n",
              "      <td>0</td>\n",
              "      <td>1</td>\n",
              "    </tr>\n",
              "    <tr>\n",
              "      <th>2</th>\n",
              "      <td>31</td>\n",
              "      <td>59</td>\n",
              "      <td>2</td>\n",
              "      <td>1</td>\n",
              "    </tr>\n",
              "    <tr>\n",
              "      <th>3</th>\n",
              "      <td>31</td>\n",
              "      <td>65</td>\n",
              "      <td>4</td>\n",
              "      <td>1</td>\n",
              "    </tr>\n",
              "    <tr>\n",
              "      <th>4</th>\n",
              "      <td>33</td>\n",
              "      <td>58</td>\n",
              "      <td>10</td>\n",
              "      <td>1</td>\n",
              "    </tr>\n",
              "  </tbody>\n",
              "</table>\n",
              "</div>"
            ],
            "text/plain": [
              "   30  64   1  1.1\n",
              "0  30  62   3    1\n",
              "1  30  65   0    1\n",
              "2  31  59   2    1\n",
              "3  31  65   4    1\n",
              "4  33  58  10    1"
            ]
          },
          "metadata": {
            "tags": []
          },
          "execution_count": 54
        }
      ]
    },
    {
      "cell_type": "code",
      "metadata": {
        "id": "YvbFMZWn4NhL",
        "colab_type": "code",
        "colab": {
          "base_uri": "https://localhost:8080/",
          "height": 109
        },
        "outputId": "aebfc126-f784-4023-ad34-6d4b28e1058d"
      },
      "source": [
        "haberman_data.count()"
      ],
      "execution_count": 55,
      "outputs": [
        {
          "output_type": "execute_result",
          "data": {
            "text/plain": [
              "30     305\n",
              "64     305\n",
              "1      305\n",
              "1.1    305\n",
              "dtype: int64"
            ]
          },
          "metadata": {
            "tags": []
          },
          "execution_count": 55
        }
      ]
    },
    {
      "cell_type": "code",
      "metadata": {
        "id": "d4nT7Se2Argl",
        "colab_type": "code",
        "colab": {
          "base_uri": "https://localhost:8080/",
          "height": 109
        },
        "outputId": "4269eba3-0a68-4ed6-857a-295b39fad8fa"
      },
      "source": [
        "haberman_data.isna().sum()"
      ],
      "execution_count": 56,
      "outputs": [
        {
          "output_type": "execute_result",
          "data": {
            "text/plain": [
              "30     0\n",
              "64     0\n",
              "1      0\n",
              "1.1    0\n",
              "dtype: int64"
            ]
          },
          "metadata": {
            "tags": []
          },
          "execution_count": 56
        }
      ]
    },
    {
      "cell_type": "code",
      "metadata": {
        "id": "FnuzyYgbBXBw",
        "colab_type": "code",
        "colab": {
          "base_uri": "https://localhost:8080/",
          "height": 206
        },
        "outputId": "2f4b490e-07fb-453d-da8f-4bb6c3c715ec"
      },
      "source": [
        "column_headers = ['age_of_patient', 'patients_year_of_operation', 'number_positive_nodes', 'survival_status']\n",
        "\n",
        "haberman_data = pd.read_csv(haberman_data_url, names=column_headers)\n",
        "haberman_data.head()"
      ],
      "execution_count": 57,
      "outputs": [
        {
          "output_type": "execute_result",
          "data": {
            "text/html": [
              "<div>\n",
              "<style scoped>\n",
              "    .dataframe tbody tr th:only-of-type {\n",
              "        vertical-align: middle;\n",
              "    }\n",
              "\n",
              "    .dataframe tbody tr th {\n",
              "        vertical-align: top;\n",
              "    }\n",
              "\n",
              "    .dataframe thead th {\n",
              "        text-align: right;\n",
              "    }\n",
              "</style>\n",
              "<table border=\"1\" class=\"dataframe\">\n",
              "  <thead>\n",
              "    <tr style=\"text-align: right;\">\n",
              "      <th></th>\n",
              "      <th>age_of_patient</th>\n",
              "      <th>patients_year_of_operation</th>\n",
              "      <th>number_positive_nodes</th>\n",
              "      <th>survival_status</th>\n",
              "    </tr>\n",
              "  </thead>\n",
              "  <tbody>\n",
              "    <tr>\n",
              "      <th>0</th>\n",
              "      <td>30</td>\n",
              "      <td>64</td>\n",
              "      <td>1</td>\n",
              "      <td>1</td>\n",
              "    </tr>\n",
              "    <tr>\n",
              "      <th>1</th>\n",
              "      <td>30</td>\n",
              "      <td>62</td>\n",
              "      <td>3</td>\n",
              "      <td>1</td>\n",
              "    </tr>\n",
              "    <tr>\n",
              "      <th>2</th>\n",
              "      <td>30</td>\n",
              "      <td>65</td>\n",
              "      <td>0</td>\n",
              "      <td>1</td>\n",
              "    </tr>\n",
              "    <tr>\n",
              "      <th>3</th>\n",
              "      <td>31</td>\n",
              "      <td>59</td>\n",
              "      <td>2</td>\n",
              "      <td>1</td>\n",
              "    </tr>\n",
              "    <tr>\n",
              "      <th>4</th>\n",
              "      <td>31</td>\n",
              "      <td>65</td>\n",
              "      <td>4</td>\n",
              "      <td>1</td>\n",
              "    </tr>\n",
              "  </tbody>\n",
              "</table>\n",
              "</div>"
            ],
            "text/plain": [
              "   age_of_patient  ...  survival_status\n",
              "0              30  ...                1\n",
              "1              30  ...                1\n",
              "2              30  ...                1\n",
              "3              31  ...                1\n",
              "4              31  ...                1\n",
              "\n",
              "[5 rows x 4 columns]"
            ]
          },
          "metadata": {
            "tags": []
          },
          "execution_count": 57
        }
      ]
    },
    {
      "cell_type": "code",
      "metadata": {
        "id": "xCt2eNA4DblZ",
        "colab_type": "code",
        "colab": {
          "base_uri": "https://localhost:8080/",
          "height": 206
        },
        "outputId": "5b5dd2e6-4280-4ea5-9726-e91d40ab0174"
      },
      "source": [
        "df = pd.read_csv(haberman_data_url, names=column_headers)\n",
        "df.head()"
      ],
      "execution_count": 58,
      "outputs": [
        {
          "output_type": "execute_result",
          "data": {
            "text/html": [
              "<div>\n",
              "<style scoped>\n",
              "    .dataframe tbody tr th:only-of-type {\n",
              "        vertical-align: middle;\n",
              "    }\n",
              "\n",
              "    .dataframe tbody tr th {\n",
              "        vertical-align: top;\n",
              "    }\n",
              "\n",
              "    .dataframe thead th {\n",
              "        text-align: right;\n",
              "    }\n",
              "</style>\n",
              "<table border=\"1\" class=\"dataframe\">\n",
              "  <thead>\n",
              "    <tr style=\"text-align: right;\">\n",
              "      <th></th>\n",
              "      <th>age_of_patient</th>\n",
              "      <th>patients_year_of_operation</th>\n",
              "      <th>number_positive_nodes</th>\n",
              "      <th>survival_status</th>\n",
              "    </tr>\n",
              "  </thead>\n",
              "  <tbody>\n",
              "    <tr>\n",
              "      <th>0</th>\n",
              "      <td>30</td>\n",
              "      <td>64</td>\n",
              "      <td>1</td>\n",
              "      <td>1</td>\n",
              "    </tr>\n",
              "    <tr>\n",
              "      <th>1</th>\n",
              "      <td>30</td>\n",
              "      <td>62</td>\n",
              "      <td>3</td>\n",
              "      <td>1</td>\n",
              "    </tr>\n",
              "    <tr>\n",
              "      <th>2</th>\n",
              "      <td>30</td>\n",
              "      <td>65</td>\n",
              "      <td>0</td>\n",
              "      <td>1</td>\n",
              "    </tr>\n",
              "    <tr>\n",
              "      <th>3</th>\n",
              "      <td>31</td>\n",
              "      <td>59</td>\n",
              "      <td>2</td>\n",
              "      <td>1</td>\n",
              "    </tr>\n",
              "    <tr>\n",
              "      <th>4</th>\n",
              "      <td>31</td>\n",
              "      <td>65</td>\n",
              "      <td>4</td>\n",
              "      <td>1</td>\n",
              "    </tr>\n",
              "  </tbody>\n",
              "</table>\n",
              "</div>"
            ],
            "text/plain": [
              "   age_of_patient  ...  survival_status\n",
              "0              30  ...                1\n",
              "1              30  ...                1\n",
              "2              30  ...                1\n",
              "3              31  ...                1\n",
              "4              31  ...                1\n",
              "\n",
              "[5 rows x 4 columns]"
            ]
          },
          "metadata": {
            "tags": []
          },
          "execution_count": 58
        }
      ]
    },
    {
      "cell_type": "code",
      "metadata": {
        "id": "MbO2Y5ZDD6gv",
        "colab_type": "code",
        "colab": {}
      },
      "source": [
        ""
      ],
      "execution_count": 0,
      "outputs": []
    },
    {
      "cell_type": "code",
      "metadata": {
        "id": "2ADzVksuEIog",
        "colab_type": "code",
        "colab": {
          "base_uri": "https://localhost:8080/",
          "height": 206
        },
        "outputId": "91821415-0cf4-4f51-b112-22e39c132a9d"
      },
      "source": [
        "column_headers = ['survival_status', 'patients_survived_5_years', 'patient_died_within_5_years']\n",
        "\n",
        "haberman_data = pd.read_csv(haberman_data_url, names=column_headers)\n",
        "haberman_data.head()"
      ],
      "execution_count": 59,
      "outputs": [
        {
          "output_type": "execute_result",
          "data": {
            "text/html": [
              "<div>\n",
              "<style scoped>\n",
              "    .dataframe tbody tr th:only-of-type {\n",
              "        vertical-align: middle;\n",
              "    }\n",
              "\n",
              "    .dataframe tbody tr th {\n",
              "        vertical-align: top;\n",
              "    }\n",
              "\n",
              "    .dataframe thead th {\n",
              "        text-align: right;\n",
              "    }\n",
              "</style>\n",
              "<table border=\"1\" class=\"dataframe\">\n",
              "  <thead>\n",
              "    <tr style=\"text-align: right;\">\n",
              "      <th></th>\n",
              "      <th>survival_status</th>\n",
              "      <th>patients_survived_5_years</th>\n",
              "      <th>patient_died_within_5_years</th>\n",
              "    </tr>\n",
              "  </thead>\n",
              "  <tbody>\n",
              "    <tr>\n",
              "      <th>30</th>\n",
              "      <td>64</td>\n",
              "      <td>1</td>\n",
              "      <td>1</td>\n",
              "    </tr>\n",
              "    <tr>\n",
              "      <th>30</th>\n",
              "      <td>62</td>\n",
              "      <td>3</td>\n",
              "      <td>1</td>\n",
              "    </tr>\n",
              "    <tr>\n",
              "      <th>30</th>\n",
              "      <td>65</td>\n",
              "      <td>0</td>\n",
              "      <td>1</td>\n",
              "    </tr>\n",
              "    <tr>\n",
              "      <th>31</th>\n",
              "      <td>59</td>\n",
              "      <td>2</td>\n",
              "      <td>1</td>\n",
              "    </tr>\n",
              "    <tr>\n",
              "      <th>31</th>\n",
              "      <td>65</td>\n",
              "      <td>4</td>\n",
              "      <td>1</td>\n",
              "    </tr>\n",
              "  </tbody>\n",
              "</table>\n",
              "</div>"
            ],
            "text/plain": [
              "    survival_status  patients_survived_5_years  patient_died_within_5_years\n",
              "30               64                          1                            1\n",
              "30               62                          3                            1\n",
              "30               65                          0                            1\n",
              "31               59                          2                            1\n",
              "31               65                          4                            1"
            ]
          },
          "metadata": {
            "tags": []
          },
          "execution_count": 59
        }
      ]
    },
    {
      "cell_type": "code",
      "metadata": {
        "id": "T0Yhg-2lE1sX",
        "colab_type": "code",
        "colab": {
          "base_uri": "https://localhost:8080/",
          "height": 302
        },
        "outputId": "f3b6f7c9-4780-49a7-a9e6-bda6ef648511"
      },
      "source": [
        "import matplotlib.pyplot as plt\n",
        "\n",
        "# Scatter Plot\n",
        "df.plot.scatter('age_of_patient', 'patients_year_of_operation')"
      ],
      "execution_count": 60,
      "outputs": [
        {
          "output_type": "execute_result",
          "data": {
            "text/plain": [
              "<matplotlib.axes._subplots.AxesSubplot at 0x7ff010202ac8>"
            ]
          },
          "metadata": {
            "tags": []
          },
          "execution_count": 60
        },
        {
          "output_type": "display_data",
          "data": {
            "image/png": "[encoded data removed]",
            "text/plain": [
              "<Figure size 432x288 with 1 Axes>"
            ]
          },
          "metadata": {
            "tags": []
          }
        }
      ]
    },
    {
      "cell_type": "code",
      "metadata": {
        "id": "j0wcPJ0-FZ5E",
        "colab_type": "code",
        "colab": {
          "base_uri": "https://localhost:8080/",
          "height": 302
        },
        "outputId": "11ee3bbf-a069-4aa9-d68e-7c77712b6eba"
      },
      "source": [
        "import matplotlib.pyplot as plt\n",
        "\n",
        "# Scatter Plot\n",
        "df.plot.scatter('survival_status', 'patients_year_of_operation')"
      ],
      "execution_count": 61,
      "outputs": [
        {
          "output_type": "execute_result",
          "data": {
            "text/plain": [
              "<matplotlib.axes._subplots.AxesSubplot at 0x7ff0106f1438>"
            ]
          },
          "metadata": {
            "tags": []
          },
          "execution_count": 61
        },
        {
          "output_type": "display_data",
          "data": {
            "image/png": "[encoded data removed]",
            "text/plain": [
              "<Figure size 432x288 with 1 Axes>"
            ]
          },
          "metadata": {
            "tags": []
          }
        }
      ]
    },
    {
      "cell_type": "markdown",
      "metadata": {
        "id": "G7rLytbrO38L",
        "colab_type": "text"
      },
      "source": [
        "## Part 2 - Examine the distribution and relationships of the features\n",
        "\n",
        "Explore the data - create at least *2* tables (can be summary statistics or crosstabulations) and *2* plots illustrating the nature of the data.\n",
        "\n",
        "This is open-ended, so to remind - first *complete* this task as a baseline, then go on to the remaining sections, and *then* as time allows revisit and explore further.\n",
        "\n",
        "Hint - you may need to bin some variables depending on your chosen tables/plots."
      ]
    },
    {
      "cell_type": "code",
      "metadata": {
        "id": "IAkllgCIFVj0",
        "colab_type": "code",
        "colab": {}
      },
      "source": [
        "# TODO"
      ],
      "execution_count": 0,
      "outputs": []
    },
    {
      "cell_type": "markdown",
      "metadata": {
        "id": "ZM8JckA2bgnp",
        "colab_type": "text"
      },
      "source": [
        "## Part 3 - Analysis and Interpretation\n",
        "\n",
        "Now that you've looked at the data, answer the following questions:\n",
        "\n",
        "- What is at least one feature that looks to have a positive relationship with survival?\n",
        "- What is at least one feature that looks to have a negative relationship with survival?\n",
        "- How are those two features related with each other, and what might that mean?\n",
        "\n",
        "Answer with text, but feel free to intersperse example code/results or refer to it from earlier."
      ]
    }
  ]
}