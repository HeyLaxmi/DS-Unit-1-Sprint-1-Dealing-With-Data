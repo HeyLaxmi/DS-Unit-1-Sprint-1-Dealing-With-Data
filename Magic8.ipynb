{
  "nbformat": 4,
  "nbformat_minor": 0,
  "metadata": {
    "colab": {
      "name": "Magic8.ipynb",
      "version": "0.3.2",
      "provenance": [],
      "include_colab_link": true
    },
    "kernelspec": {
      "name": "python3",
      "display_name": "Python 3"
    }
  },
  "cells": [
    {
      "cell_type": "markdown",
      "metadata": {
        "id": "view-in-github",
        "colab_type": "text"
      },
      "source": [
        "<a href=\"https://colab.research.google.com/github/HeyLaxmi/DS-Unit-1-Sprint-1-Dealing-With-Data/blob/master/Magic8.ipynb\" target=\"_parent\"><img src=\"https://colab.research.google.com/assets/colab-badge.svg\" alt=\"Open In Colab\"/></a>"
      ]
    },
    {
      "cell_type": "markdown",
      "metadata": {
        "id": "Za5YRtK7tNpM",
        "colab_type": "text"
      },
      "source": [
        "# What's your fortune? \n",
        "\n"
      ]
    },
    {
      "cell_type": "markdown",
      "metadata": {
        "id": "OMXml87Z_EnE",
        "colab_type": "text"
      },
      "source": [
        "## Create a Python project of a Magic 8 Ball which is a toy used for fortune-telling or seeking advice.\n",
        "\n",
        "### Key Objectives:\n",
        "\n",
        "*  Allow the user to input their question.\n",
        "*  Show an in progress message.\n",
        "*  Create 10/20 responses, and show a random response.\n",
        "*  Allow the user to ask another question/advice or quit the game.\n"
      ]
    },
    {
      "cell_type": "code",
      "metadata": {
        "id": "jTh3cZAGAcRU",
        "colab_type": "code",
        "colab": {}
      },
      "source": [
        "#Write your code here "
      ],
      "execution_count": 0,
      "outputs": []
    }
  ]
}